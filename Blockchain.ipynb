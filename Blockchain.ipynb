{
  "nbformat": 4,
  "nbformat_minor": 0,
  "metadata": {
    "colab": {
      "name": "Blockchain.ipynb",
      "provenance": [],
      "collapsed_sections": [],
      "include_colab_link": true
    },
    "kernelspec": {
      "name": "python3",
      "display_name": "Python 3"
    },
    "language_info": {
      "name": "python"
    }
  },
  "cells": [
    {
      "cell_type": "markdown",
      "metadata": {
        "id": "view-in-github",
        "colab_type": "text"
      },
      "source": [
        "<a href=\"https://colab.research.google.com/github/parkersavage/mentorship/blob/main/Blockchain.ipynb\" target=\"_parent\"><img src=\"https://colab.research.google.com/assets/colab-badge.svg\" alt=\"Open In Colab\"/></a>"
      ]
    },
    {
      "cell_type": "code",
      "execution_count": 1,
      "metadata": {
        "id": "ZUbTqH21gX4Q"
      },
      "outputs": [],
      "source": [
        "# Note from Dr. Givens\n",
        "# Spring Break assignment is to...\n",
        "# (1) Complete the verify function\n",
        "# (2) Play around with adding other types of data (coin transactions??)\n",
        "\n",
        "import datetime as d\n",
        "import hashlib as h"
      ]
    },
    {
      "cell_type": "code",
      "source": [
        "class Block:\n",
        "    def __init__(self, index, timestamp, data, prevhash):\n",
        "        self.index = index\n",
        "        self.timestamp = timestamp\n",
        "        self.data = data\n",
        "        self.prevhash = prevhash\n",
        "        self.hash = self.hashblock()\n",
        "    \n",
        "    def hashblock(self):\n",
        "        block_encryption = h.sha256()\n",
        "        block_encryption.update((str(self.index)+str(self.timestamp)+str(self.data)+str(self.prevhash)).encode())\n",
        "        return block_encryption.hexdigest()\n",
        "\n",
        "    @staticmethod\n",
        "    def genesisblock():\n",
        "        return Block(0,d.datetime.now(),\"genesis block transaction\", \" \")\n",
        "\n",
        "    @staticmethod\n",
        "    def newblock(lastblock, data_):\n",
        "        index = lastblock.index+1\n",
        "        timestamp = d.datetime.now()\n",
        "        hashblock = lastblock.hash\n",
        "        data = data_\n",
        "        return Block(index, timestamp, data, hashblock)\n",
        "    \n",
        "    def __repr__(self):\n",
        "      return \"ID #{}\".format(self.index) \\\n",
        "      + \" \\\\ Timestamp:{}\".format(self.timestamp) \\\n",
        "      + \" \\\\ Hash:{}\".format(self.hash) \\\n",
        "      + \" \\\\ Previous Hash:{}\".format(self.prevhash) \\\n",
        "      + \" \\\\ Data:{}\\n\".format(self.data)"
      ],
      "metadata": {
        "id": "eEytglsugcAe"
      },
      "execution_count": 2,
      "outputs": []
    },
    {
      "cell_type": "code",
      "source": [
        "Savagecoin = [Block.genesisblock()]\n",
        "prevblock = Savagecoin[0]"
      ],
      "metadata": {
        "id": "xeSt6UVtmXAJ"
      },
      "execution_count": 3,
      "outputs": []
    },
    {
      "cell_type": "code",
      "source": [
        "addblock = Block.newblock(prevblock, \"Test\")\n",
        "Savagecoin.append(addblock)\n",
        "prevblock = addblock"
      ],
      "metadata": {
        "id": "UF6Sd_RpLd94"
      },
      "execution_count": 4,
      "outputs": []
    },
    {
      "cell_type": "code",
      "source": [
        "def hashblock2(block_):\n",
        "  block_encryption = h.sha256()\n",
        "  block_encryption.update((str(block_.index)+str(block_.timestamp)+str(block_.data)+str(block_.prevhash)).encode())\n",
        "  return block_encryption.hexdigest()\n",
        "\n",
        "def verify(blockchain_):\n",
        "  last_block_hash = \"\"\n",
        "  for i in range(len(blockchain_)):\n",
        "    last_block_hash = hashblock2(blockchain_[i])\n",
        "    # print((\"#\" + str(blockchain_[i].index)+ \" | \" + str(blockchain_[i].timestamp)+ \" | \" + str(blockchain_[i].data)+ \" | Hash: \" + str(last_block_hash)).encode())\n",
        "    if i == (len(blockchain_) - 1):\n",
        "      last_transactions_hash = last_block_hash\n",
        "  if last_transactions_hash == blockchain_[len(blockchain_) - 1].hash:\n",
        "    return True\n",
        "  else:\n",
        "    return False"
      ],
      "metadata": {
        "id": "xrJAPDCkuI2m"
      },
      "execution_count": 7,
      "outputs": []
    },
    {
      "cell_type": "code",
      "source": [
        "# blockchain = [Block.genesisblock()]\n",
        "# prevblock = blockchain[0]"
      ],
      "metadata": {
        "id": "7Qqq6vazg29R"
      },
      "execution_count": null,
      "outputs": []
    },
    {
      "cell_type": "code",
      "source": [
        "# for i in range (0,5):\n",
        "#    addblock = Block.newblock(prevblock)\n",
        "#    blockchain.append(addblock)\n",
        "#    prevblock = addblock\n",
        "#\n",
        "#    print(\"Block ID #{} \".format(addblock.index))\n",
        "#    print(\"Timestamp:{}\".format(addblock.timestamp))\n",
        "#    print(\"Hash of the block:{}\".format(addblock.hash))\n",
        "#    print(\"Previous Block Hash:{}\".format(addblock.prevhash))\n",
        "#    print(\"data:{}\\n\".format(addblock.data))\n",
        "#\n",
        "# blockchain"
      ],
      "metadata": {
        "id": "fXEvbPAqg_kk"
      },
      "execution_count": null,
      "outputs": []
    },
    {
      "cell_type": "code",
      "source": [
        "Savagecoin[1].data = \"testtest\""
      ],
      "metadata": {
        "id": "0gP_wekVMRjB"
      },
      "execution_count": 9,
      "outputs": []
    },
    {
      "cell_type": "code",
      "source": [
        "Savagecoin"
      ],
      "metadata": {
        "id": "lsb98VC4MmXU",
        "outputId": "a86b0f44-65ae-42aa-9961-7559f1d0a8cb",
        "colab": {
          "base_uri": "https://localhost:8080/"
        }
      },
      "execution_count": 10,
      "outputs": [
        {
          "output_type": "execute_result",
          "data": {
            "text/plain": [
              "[ID #0 \\ Timestamp:2022-03-22 14:01:38.000038 \\ Hash:6bfd257ceeddb31d5318f359ab5694090cd770087f7041fe05822c87860c5ea8 \\ Previous Hash:  \\ Data:genesis block transaction,\n",
              " ID #1 \\ Timestamp:2022-03-22 14:01:42.182824 \\ Hash:831314fade018e2008c8483218d0b6cce3098c58882ee961e2b10323903d5d9d \\ Previous Hash:6bfd257ceeddb31d5318f359ab5694090cd770087f7041fe05822c87860c5ea8 \\ Data:testtest]"
            ]
          },
          "metadata": {},
          "execution_count": 10
        }
      ]
    },
    {
      "cell_type": "code",
      "source": [
        "verify(Savagecoin)"
      ],
      "metadata": {
        "colab": {
          "base_uri": "https://localhost:8080/"
        },
        "id": "bT39kUB7MSiz",
        "outputId": "cf4451b2-842a-4725-f017-2bdbd2ca7bba"
      },
      "execution_count": 11,
      "outputs": [
        {
          "output_type": "execute_result",
          "data": {
            "text/plain": [
              "False"
            ]
          },
          "metadata": {},
          "execution_count": 11
        }
      ]
    }
  ]
}