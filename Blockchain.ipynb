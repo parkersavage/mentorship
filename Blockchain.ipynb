{
  "nbformat": 4,
  "nbformat_minor": 0,
  "metadata": {
    "colab": {
      "name": "Blockchain.ipynb",
      "provenance": []
    },
    "kernelspec": {
      "name": "python3",
      "display_name": "Python 3"
    },
    "language_info": {
      "name": "python"
    }
  },
  "cells": [
    {
      "cell_type": "code",
      "execution_count": null,
      "metadata": {
        "id": "ZUbTqH21gX4Q"
      },
      "outputs": [],
      "source": [
        "import datetime as d\n",
        "import hashlib as h"
      ]
    },
    {
      "cell_type": "code",
      "source": [
        "class Block:\n",
        "    def __init__(self, index, timestamp, data, prevhash):\n",
        "        self.index = index\n",
        "        self.timestamp = timestamp\n",
        "        self.data = data\n",
        "        self.prevhash = prevhash\n",
        "        self.hash = self.hashblock()\n",
        "\n",
        "    def hashblock(self):\n",
        "        block_encryption = h.sha256()\n",
        "        block_encryption.update((str(self.index)+str(self.timestamp)+str(self.data)+str(self.prevhash)).encode())\n",
        "        return block_encryption.hexdigest()\n",
        "\n",
        "    @staticmethod\n",
        "    def genesisblock():\n",
        "        return Block(0,d.datetime.now(),\"genesis block transaction\", \" \")\n",
        "\n",
        "    @staticmethod\n",
        "    def newblock(lastblock):\n",
        "        index = lastblock.index+1\n",
        "        timestamp = d.datetime.now()\n",
        "        hashblock = lastblock.hash\n",
        "        data = \"Transaction \" + str(index)\n",
        "        return Block(index, timestamp, data, hashblock)\n",
        "    \n",
        "    def __repr__(self):\n",
        "      return \"ID #{}\".format(self.index) \\\n",
        "      + \" \\\\ Timestamp:{}\".format(self.timestamp) \\\n",
        "      + \" \\\\ Hash:{}\".format(self.hash) \\\n",
        "      + \" \\\\ Previous Hash:{}\".format(self.prevhash) \\\n",
        "      + \" \\\\ Data:{}\\n\".format(self.data)"
      ],
      "metadata": {
        "id": "eEytglsugcAe"
      },
      "execution_count": null,
      "outputs": []
    },
    {
      "cell_type": "code",
      "source": [
        "def verify(blockchain_):\n",
        "  for i in range (len(blockchain_)):\n",
        "    "
      ],
      "metadata": {
        "id": "xuY_qtyUwsPY"
      },
      "execution_count": null,
      "outputs": []
    },
    {
      "cell_type": "code",
      "source": [
        "blockchain = [Block.genesisblock()]\n",
        "prevblock = blockchain[0]"
      ],
      "metadata": {
        "id": "7Qqq6vazg29R"
      },
      "execution_count": 11,
      "outputs": []
    },
    {
      "cell_type": "code",
      "source": [
        "for i in range (0,5):\n",
        "    addblock = Block.newblock(prevblock)\n",
        "    blockchain.append(addblock)\n",
        "    prevblock = addblock\n",
        "\n",
        "    print(\"Block ID #{} \".format(addblock.index))\n",
        "    print(\"Timestamp:{}\".format(addblock.timestamp))\n",
        "    print(\"Hash of the block:{}\".format(addblock.hash))\n",
        "    print(\"Previous Block Hash:{}\".format(addblock.prevhash))\n",
        "    print(\"data:{}\\n\".format(addblock.data))\n"
      ],
      "metadata": {
        "colab": {
          "base_uri": "https://localhost:8080/"
        },
        "id": "fXEvbPAqg_kk",
        "outputId": "9b1a2eb9-76a4-4c60-e78f-0e9bb3d750ca"
      },
      "execution_count": null,
      "outputs": [
        {
          "output_type": "stream",
          "name": "stdout",
          "text": [
            "Block ID #1 \n",
            "Timestamp:2022-03-10 16:55:17.530748\n",
            "Hash of the block:f18dec54dc0513c2529988ec390b274e29f36c58a4b089e72d87cd7a6c0675eb\n",
            "Previous Block Hash:3cbe435435fb3d650627d99bc5e570c5a0de6b2453acaed0d830e02d90073908\n",
            "data:Transaction 1\n",
            "\n",
            "Block ID #2 \n",
            "Timestamp:2022-03-10 16:55:17.533365\n",
            "Hash of the block:45aad4a37e149f8e1e830142a0f56bd9e10181e116039368a6e6e704ef72a696\n",
            "Previous Block Hash:f18dec54dc0513c2529988ec390b274e29f36c58a4b089e72d87cd7a6c0675eb\n",
            "data:Transaction 2\n",
            "\n",
            "Block ID #3 \n",
            "Timestamp:2022-03-10 16:55:17.533549\n",
            "Hash of the block:948db362550a9e2fd5a90d5f3fece9d2a5185eaf2b1729a073802fe29b8bd46c\n",
            "Previous Block Hash:45aad4a37e149f8e1e830142a0f56bd9e10181e116039368a6e6e704ef72a696\n",
            "data:Transaction 3\n",
            "\n",
            "Block ID #4 \n",
            "Timestamp:2022-03-10 16:55:17.533738\n",
            "Hash of the block:7ed9c3dacc46e5080da2d48b7ff15e2df5e6e555b67729a4af9f8810b35d79ad\n",
            "Previous Block Hash:948db362550a9e2fd5a90d5f3fece9d2a5185eaf2b1729a073802fe29b8bd46c\n",
            "data:Transaction 4\n",
            "\n",
            "Block ID #5 \n",
            "Timestamp:2022-03-10 16:55:17.533948\n",
            "Hash of the block:ca2e9a32538c103c1080efce71f1e02746da3d06644411b444c59777a5ad148a\n",
            "Previous Block Hash:7ed9c3dacc46e5080da2d48b7ff15e2df5e6e555b67729a4af9f8810b35d79ad\n",
            "data:Transaction 5\n",
            "\n"
          ]
        }
      ]
    },
    {
      "cell_type": "code",
      "source": [
        "blockchain"
      ],
      "metadata": {
        "colab": {
          "base_uri": "https://localhost:8080/"
        },
        "id": "y1LzzUS_uHz_",
        "outputId": "89be520d-08c5-4435-e2b6-fd4837ccf549"
      },
      "execution_count": null,
      "outputs": [
        {
          "output_type": "execute_result",
          "data": {
            "text/plain": [
              "[ID #0 \\ Timestamp:2022-03-10 16:55:16.348244 \\ Hash:3cbe435435fb3d650627d99bc5e570c5a0de6b2453acaed0d830e02d90073908 \\ Previous Hash:  \\ Data:genesis block transaction,\n",
              " ID #1 \\ Timestamp:2022-03-10 16:55:17.530748 \\ Hash:f18dec54dc0513c2529988ec390b274e29f36c58a4b089e72d87cd7a6c0675eb \\ Previous Hash:3cbe435435fb3d650627d99bc5e570c5a0de6b2453acaed0d830e02d90073908 \\ Data:Transaction 1,\n",
              " ID #2 \\ Timestamp:2022-03-10 16:55:17.533365 \\ Hash:45aad4a37e149f8e1e830142a0f56bd9e10181e116039368a6e6e704ef72a696 \\ Previous Hash:f18dec54dc0513c2529988ec390b274e29f36c58a4b089e72d87cd7a6c0675eb \\ Data:Transaction 2,\n",
              " ID #3 \\ Timestamp:2022-03-10 16:55:17.533549 \\ Hash:948db362550a9e2fd5a90d5f3fece9d2a5185eaf2b1729a073802fe29b8bd46c \\ Previous Hash:45aad4a37e149f8e1e830142a0f56bd9e10181e116039368a6e6e704ef72a696 \\ Data:Transaction 3,\n",
              " ID #4 \\ Timestamp:2022-03-10 16:55:17.533738 \\ Hash:7ed9c3dacc46e5080da2d48b7ff15e2df5e6e555b67729a4af9f8810b35d79ad \\ Previous Hash:948db362550a9e2fd5a90d5f3fece9d2a5185eaf2b1729a073802fe29b8bd46c \\ Data:Transaction 4,\n",
              " ID #5 \\ Timestamp:2022-03-10 16:55:17.533948 \\ Hash:ca2e9a32538c103c1080efce71f1e02746da3d06644411b444c59777a5ad148a \\ Previous Hash:7ed9c3dacc46e5080da2d48b7ff15e2df5e6e555b67729a4af9f8810b35d79ad \\ Data:Transaction 5]"
            ]
          },
          "metadata": {},
          "execution_count": 28
        }
      ]
    },
    {
      "cell_type": "code",
      "source": [
        ""
      ],
      "metadata": {
        "id": "xrJAPDCkuI2m"
      },
      "execution_count": null,
      "outputs": []
    }
  ]
}