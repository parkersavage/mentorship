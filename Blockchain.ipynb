{
  "nbformat": 4,
  "nbformat_minor": 0,
  "metadata": {
    "colab": {
      "name": "Blockchain.ipynb",
      "provenance": [],
      "collapsed_sections": []
    },
    "kernelspec": {
      "name": "python3",
      "display_name": "Python 3"
    },
    "language_info": {
      "name": "python"
    }
  },
  "cells": [
    {
      "cell_type": "code",
      "source": [
        "# only necesary if you get 'ModuleNotFoundError: ecdsa or base58':\n",
        "! pip install ecdsa"
      ],
      "metadata": {
        "id": "RNJXEJ4Jhtch",
        "colab": {
          "base_uri": "https://localhost:8080/"
        },
        "outputId": "02530f2d-40d6-4f1e-be0d-41031d869c9f"
      },
      "execution_count": 2,
      "outputs": [
        {
          "output_type": "stream",
          "name": "stdout",
          "text": [
            "Collecting ecdsa\n",
            "  Downloading ecdsa-0.17.0-py2.py3-none-any.whl (119 kB)\n",
            "\u001b[?25l\r\u001b[K     |██▊                             | 10 kB 23.1 MB/s eta 0:00:01\r\u001b[K     |█████▌                          | 20 kB 28.7 MB/s eta 0:00:01\r\u001b[K     |████████▎                       | 30 kB 33.5 MB/s eta 0:00:01\r\u001b[K     |███████████                     | 40 kB 18.5 MB/s eta 0:00:01\r\u001b[K     |█████████████▊                  | 51 kB 15.8 MB/s eta 0:00:01\r\u001b[K     |████████████████▌               | 61 kB 18.2 MB/s eta 0:00:01\r\u001b[K     |███████████████████▏            | 71 kB 14.1 MB/s eta 0:00:01\r\u001b[K     |██████████████████████          | 81 kB 15.0 MB/s eta 0:00:01\r\u001b[K     |████████████████████████▊       | 92 kB 16.5 MB/s eta 0:00:01\r\u001b[K     |███████████████████████████▌    | 102 kB 15.8 MB/s eta 0:00:01\r\u001b[K     |██████████████████████████████▏ | 112 kB 15.8 MB/s eta 0:00:01\r\u001b[K     |████████████████████████████████| 119 kB 15.8 MB/s \n",
            "\u001b[?25hRequirement already satisfied: six>=1.9.0 in /usr/local/lib/python3.7/dist-packages (from ecdsa) (1.15.0)\n",
            "Installing collected packages: ecdsa\n",
            "Successfully installed ecdsa-0.17.0\n",
            "Collecting base58\n",
            "  Downloading base58-2.1.1-py3-none-any.whl (5.6 kB)\n",
            "Installing collected packages: base58\n",
            "Successfully installed base58-2.1.1\n"
          ]
        }
      ]
    },
    {
      "cell_type": "code",
      "execution_count": 1,
      "metadata": {
        "id": "ZUbTqH21gX4Q"
      },
      "outputs": [],
      "source": [
        "# https://medium.datadriveninvestor.com/is-it-hard-to-build-a-blockchain-from-scratch-23bac74e4f\n",
        "# https://stackoverflow.com/questions/34451214/how-to-sign-and-verify-signature-with-ecdsa-in-python\n",
        "from ecdsa import SigningKey as sk\n",
        "import datetime as d\n",
        "import hashlib as h"
      ]
    },
    {
      "cell_type": "code",
      "source": [
        "class Block:\n",
        "    def __init__(self, index, timestamp, data, prevhash):\n",
        "        self.index = index\n",
        "        self.timestamp = timestamp\n",
        "        self.data = data\n",
        "        self.prevhash = prevhash\n",
        "        self.hash = self.hashblock()\n",
        "    \n",
        "    def hashblock(self):\n",
        "        block_encryption = h.sha256()\n",
        "        block_encryption.update((str(self.index)+str(self.timestamp)+str(self.data)+str(self.prevhash)).encode())\n",
        "        return block_encryption.hexdigest()\n",
        "\n",
        "    @staticmethod\n",
        "    def genesisblock():\n",
        "        return Block(0,d.datetime.now(),\"genesis block transaction\", \" \")\n",
        "\n",
        "    @staticmethod\n",
        "    def newblock(lastblock, data_):\n",
        "        index = lastblock.index+1\n",
        "        timestamp = d.datetime.now()\n",
        "        hashblock = lastblock.hash\n",
        "        data = data_\n",
        "        return Block(index, timestamp, data, hashblock)\n",
        "    \n",
        "    def __repr__(self):\n",
        "      return \"ID #{}\".format(self.index) \\\n",
        "      + \" \\\\ Timestamp:{}\".format(self.timestamp) \\\n",
        "      + \" \\\\ Data: {}\".format(self.data) \\\n",
        "      + \" \\\\ Previous Hash:{}\".format(self.prevhash) \\\n",
        "      + \" \\\\ Hash:{}\\n\".format(self.hash)"
      ],
      "metadata": {
        "id": "eEytglsugcAe"
      },
      "execution_count": 58,
      "outputs": []
    },
    {
      "cell_type": "code",
      "source": [
        "class Blockchain:\n",
        "  def __init__(self):\n",
        "    self.chain = [Block.genesisblock()]\n",
        "\n",
        "  def add_block(self, data):\n",
        "    addblock = Block.newblock(self.chain[-1], data)\n",
        "    self.chain.append(addblock)\n",
        "  \n",
        "  def view(self):\n",
        "    return self.chain\n",
        "  \n",
        "  def verify(self):\n",
        "    blockchain_ = self.chain\n",
        "    for i in range(1, len(blockchain_)):\n",
        "      # checks to see if prev hash actually matches prev hash\n",
        "      if blockchain_[i-1].hash != blockchain_[i].prevhash:\n",
        "        return False\n",
        "      # checks that index and timestamp are increasing\n",
        "      if blockchain_[i].index != i or blockchain_[i-1].timestamp > blockchain_[i].timestamp:\n",
        "        return False\n",
        "      # makes sure that block's timestamp is not in in the future\n",
        "      if d.datetime.now() < blockchain_[i].timestamp:\n",
        "        return False\n",
        "      # makes sure genesis block has index 0\n",
        "      if blockchain_[0].index != 0:\n",
        "        return False\n",
        "    for i, Block in enumerate(blockchain_):\n",
        "      # verifies hash\n",
        "      if Blockchain.hashblock2(Block) != blockchain_[i].hash:\n",
        "        return False \n",
        "    return True\n",
        "  \n",
        "  def hashblock2(block_):\n",
        "    block_encryption = h.sha256()\n",
        "    block_encryption.update((str(block_.index)+str(block_.timestamp)+str(block_.data)+str(block_.prevhash)).encode())\n",
        "    return block_encryption.hexdigest()\n",
        "  \n",
        "  @staticmethod\n",
        "  def fromHex(a):\n",
        "    return bytes.fromhex(a)"
      ],
      "metadata": {
        "id": "xM8jNlte-WMS"
      },
      "execution_count": 81,
      "outputs": []
    },
    {
      "cell_type": "code",
      "source": [
        "class Transaction:\n",
        "  def __init__(self, SenderPublicKey, RecipientPublicKey, amount):\n",
        "    \"\"\"SenderPublicKey: ecdsa.keys.VerifyingKey - sender's public key, RecipientPublicKey: ecdsa.keys.VerifyingKey - recipeient's public key,\"\"\"\n",
        "    \"\"\"amount: int - amount to send to recipient from sender\"\"\"\n",
        "    self.senderPublicKey = SenderPublicKey\n",
        "    self.recipientPublicKey = RecipientPublicKey\n",
        "    self.amount = amount\n",
        "  \n",
        "  def dataToSign(self):\n",
        "    \"\"\"str: returns str of data to be signed by signature\"\"\"\n",
        "    return (str(self.senderPublicKey) + str(self.recipientPublicKey) + str(self.amount)).encode()\n",
        "  \n",
        "  def addSig(self, signature):\n",
        "    \"\"\"bytes, str: adds signature and hex version of signature to the transaction object\"\"\"\n",
        "    self.signature = signature\n",
        "    self.hexSignature = signature.hex()\n",
        "\n",
        "  def data(self):\n",
        "    \"\"\"\"str: data to be included on the blockchain, includes the signature\"\"\"\n",
        "    return str(self.senderPublicKey.to_string().hex()) + str(self.recipientPublicKey.to_string().hex()) + str(self.amount) + str(self.hexSignature)"
      ],
      "metadata": {
        "id": "ZwlT_i6xqA9h"
      },
      "execution_count": 60,
      "outputs": []
    },
    {
      "cell_type": "code",
      "source": [
        "class ECDSA:\n",
        "  def __init__ (self):\n",
        "    \"\"\"type - ecdsa.keys.VerifyingKey: private key used to calculate signatures, public key used to verify signatures.\"\"\"\n",
        "    self.private_key = sk.generate()\n",
        "    self.public_key = self.private_key.verifying_key\n",
        "  \n",
        "  def signature(self, data):\n",
        "    \"\"\"bytes: data of arbitrary length to be signed -> bytes: fixed length signature of 48 bytes generated from private key and input data\"\"\"\n",
        "    return self.private_key.sign(data)\n",
        "\n",
        "  def verifySignature(self, signature, data):\n",
        "    \"\"\"bytes: fixed length signature generated from private key and input data, bytes: data of arbitrary length used to verify the signature\"\"\" \n",
        "    \"\"\"-> bool: true if signature is true, false if signature is false\"\"\"\n",
        "    return self.public_key.verify(signature, data)\n",
        "\n",
        "  def hexPrivKey(self):\n",
        "    \"\"\"str: representing byte data of private key in hexidecimal\"\"\"\n",
        "    return self.private_key.to_string().hex()\n",
        "    \n",
        "  def hexPubKey(self):\n",
        "    \"\"\"str: representing byte data of public key in hexidecimal\"\"\"\n",
        "    return self.public_key.to_string().hex()"
      ],
      "metadata": {
        "id": "6oJdtPRaiuYk"
      },
      "execution_count": 61,
      "outputs": []
    }
  ]
}